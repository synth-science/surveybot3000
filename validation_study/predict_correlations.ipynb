{
 "cells": [
  {
   "cell_type": "markdown",
   "metadata": {},
   "source": [
    "# Synthetic Item Correlations"
   ]
  },
  {
   "cell_type": "markdown",
   "metadata": {},
   "source": [
    "## Setup and Imports"
   ]
  },
  {
   "cell_type": "code",
   "execution_count": 43,
   "metadata": {},
   "outputs": [],
   "source": [
    "import torch\n",
    "import yaml\n",
    "import pandas as pd\n",
    "from itertools import combinations\n",
    "from sentence_transformers import SentenceTransformer, util\n",
    "from IPython.display import display, Markdown\n",
    "\n",
    "\n",
    "config_path = 'config.yaml'\n",
    "\n",
    "with open(config_path, 'r') as file:\n",
    "    config = yaml.safe_load(file)\n",
    "\n",
    "device = 'cuda' if torch.cuda.is_available() else 'cpu'\n",
    "    "
   ]
  },
  {
   "cell_type": "markdown",
   "metadata": {},
   "source": [
    "## Loading the model"
   ]
  },
  {
   "cell_type": "code",
   "execution_count": 44,
   "metadata": {},
   "outputs": [],
   "source": [
    "model = SentenceTransformer(\n",
    "    model_name_or_path=config['model_path'],\n",
    "    device=device\n",
    ")"
   ]
  },
  {
   "cell_type": "markdown",
   "metadata": {},
   "source": [
    "## Load and process item text "
   ]
  },
  {
   "cell_type": "code",
   "execution_count": 45,
   "metadata": {},
   "outputs": [
    {
     "data": {
      "text/markdown": [
       "#### Measures Dataset (Preview)"
      ],
      "text/plain": [
       "<IPython.core.display.Markdown object>"
      ]
     },
     "metadata": {},
     "output_type": "display_data"
    },
    {
     "data": {
      "text/html": [
       "<div>\n",
       "<style scoped>\n",
       "    .dataframe tbody tr th:only-of-type {\n",
       "        vertical-align: middle;\n",
       "    }\n",
       "\n",
       "    .dataframe tbody tr th {\n",
       "        vertical-align: top;\n",
       "    }\n",
       "\n",
       "    .dataframe thead th {\n",
       "        text-align: right;\n",
       "    }\n",
       "</style>\n",
       "<table border=\"1\" class=\"dataframe\">\n",
       "  <thead>\n",
       "    <tr style=\"text-align: right;\">\n",
       "      <th></th>\n",
       "      <th>Unnamed: 0</th>\n",
       "      <th>id</th>\n",
       "      <th>pos</th>\n",
       "      <th>instructions</th>\n",
       "      <th>item</th>\n",
       "      <th>scale</th>\n",
       "      <th>reversed</th>\n",
       "      <th>comment</th>\n",
       "      <th>option1</th>\n",
       "      <th>option2</th>\n",
       "      <th>option3</th>\n",
       "      <th>option4</th>\n",
       "      <th>option5</th>\n",
       "      <th>option6</th>\n",
       "      <th>option7</th>\n",
       "      <th>instrument_name</th>\n",
       "      <th>instrument_acronym</th>\n",
       "      <th>doi</th>\n",
       "    </tr>\n",
       "  </thead>\n",
       "  <tbody>\n",
       "    <tr>\n",
       "      <th>0</th>\n",
       "      <td>0</td>\n",
       "      <td>AAID_01</td>\n",
       "      <td>1.0</td>\n",
       "      <td>The following statements focus on the use of A...</td>\n",
       "      <td>The use of AI in Defense could be used to spy ...</td>\n",
       "      <td>attitude toward AI in defense</td>\n",
       "      <td>True</td>\n",
       "      <td>NaN</td>\n",
       "      <td>strongly disagree</td>\n",
       "      <td>disagree</td>\n",
       "      <td>slightly disagree</td>\n",
       "      <td>neither agree nor disagree</td>\n",
       "      <td>slightly agree</td>\n",
       "      <td>agree</td>\n",
       "      <td>strongly agree</td>\n",
       "      <td>Attitudes Toward AI in Defense Scale</td>\n",
       "      <td>AAID</td>\n",
       "      <td>https://doi.org/10.3389/fpsyg.2023.1164810</td>\n",
       "    </tr>\n",
       "    <tr>\n",
       "      <th>1</th>\n",
       "      <td>4</td>\n",
       "      <td>AAID_05</td>\n",
       "      <td>5.0</td>\n",
       "      <td>The following statements focus on the use of A...</td>\n",
       "      <td>The use of AI in Defense could be used unethic...</td>\n",
       "      <td>attitude toward AI in defense</td>\n",
       "      <td>True</td>\n",
       "      <td>NaN</td>\n",
       "      <td>strongly disagree</td>\n",
       "      <td>disagree</td>\n",
       "      <td>slightly disagree</td>\n",
       "      <td>neither agree nor disagree</td>\n",
       "      <td>slightly agree</td>\n",
       "      <td>agree</td>\n",
       "      <td>strongly agree</td>\n",
       "      <td>Attitudes Toward AI in Defense Scale</td>\n",
       "      <td>AAID</td>\n",
       "      <td>https://doi.org/10.3389/fpsyg.2023.1164810</td>\n",
       "    </tr>\n",
       "  </tbody>\n",
       "</table>\n",
       "</div>"
      ],
      "text/plain": [
       "   Unnamed: 0       id  pos  \\\n",
       "0           0  AAID_01  1.0   \n",
       "1           4  AAID_05  5.0   \n",
       "\n",
       "                                        instructions  \\\n",
       "0  The following statements focus on the use of A...   \n",
       "1  The following statements focus on the use of A...   \n",
       "\n",
       "                                                item  \\\n",
       "0  The use of AI in Defense could be used to spy ...   \n",
       "1  The use of AI in Defense could be used unethic...   \n",
       "\n",
       "                           scale reversed comment            option1  \\\n",
       "0  attitude toward AI in defense     True     NaN  strongly disagree   \n",
       "1  attitude toward AI in defense     True     NaN  strongly disagree   \n",
       "\n",
       "    option2            option3                     option4         option5  \\\n",
       "0  disagree  slightly disagree  neither agree nor disagree  slightly agree   \n",
       "1  disagree  slightly disagree  neither agree nor disagree  slightly agree   \n",
       "\n",
       "  option6         option7                       instrument_name  \\\n",
       "0   agree  strongly agree  Attitudes Toward AI in Defense Scale   \n",
       "1   agree  strongly agree  Attitudes Toward AI in Defense Scale   \n",
       "\n",
       "  instrument_acronym                                         doi  \n",
       "0               AAID  https://doi.org/10.3389/fpsyg.2023.1164810  \n",
       "1               AAID  https://doi.org/10.3389/fpsyg.2023.1164810  "
      ]
     },
     "metadata": {},
     "output_type": "display_data"
    },
    {
     "data": {
      "text/markdown": [
       "#### Item Pairs (Preview)"
      ],
      "text/plain": [
       "<IPython.core.display.Markdown object>"
      ]
     },
     "metadata": {},
     "output_type": "display_data"
    },
    {
     "data": {
      "text/html": [
       "<div>\n",
       "<style scoped>\n",
       "    .dataframe tbody tr th:only-of-type {\n",
       "        vertical-align: middle;\n",
       "    }\n",
       "\n",
       "    .dataframe tbody tr th {\n",
       "        vertical-align: top;\n",
       "    }\n",
       "\n",
       "    .dataframe thead th {\n",
       "        text-align: right;\n",
       "    }\n",
       "</style>\n",
       "<table border=\"1\" class=\"dataframe\">\n",
       "  <thead>\n",
       "    <tr style=\"text-align: right;\">\n",
       "      <th></th>\n",
       "      <th>id1</th>\n",
       "      <th>item1</th>\n",
       "      <th>id2</th>\n",
       "      <th>item2</th>\n",
       "    </tr>\n",
       "  </thead>\n",
       "  <tbody>\n",
       "    <tr>\n",
       "      <th>0</th>\n",
       "      <td>AAID_01</td>\n",
       "      <td>The use of AI in Defense could be used to spy ...</td>\n",
       "      <td>AAID_05</td>\n",
       "      <td>The use of AI in Defense could be used unethic...</td>\n",
       "    </tr>\n",
       "    <tr>\n",
       "      <th>1</th>\n",
       "      <td>AAID_01</td>\n",
       "      <td>The use of AI in Defense could be used to spy ...</td>\n",
       "      <td>AAID_07</td>\n",
       "      <td>The use of AI in Defense could be used to main...</td>\n",
       "    </tr>\n",
       "  </tbody>\n",
       "</table>\n",
       "</div>"
      ],
      "text/plain": [
       "       id1                                              item1      id2  \\\n",
       "0  AAID_01  The use of AI in Defense could be used to spy ...  AAID_05   \n",
       "1  AAID_01  The use of AI in Defense could be used to spy ...  AAID_07   \n",
       "\n",
       "                                               item2  \n",
       "0  The use of AI in Defense could be used unethic...  \n",
       "1  The use of AI in Defense could be used to main...  "
      ]
     },
     "metadata": {},
     "output_type": "display_data"
    }
   ],
   "source": [
    "data = pd.read_csv(filepath_or_buffer=config['measures_path'])\n",
    "data['item'] = data['item'].str.replace('<[^>]*>', '', regex=True)\n",
    "\n",
    "display(Markdown('#### Measures Dataset (Preview)'))\n",
    "display(data.head(2))\n",
    "\n",
    "df = pd.DataFrame(\n",
    "    [(*a, *b) for a, b in combinations(data[['id', 'item']].values, 2)],\n",
    "    columns=['id1', 'item1', 'id2', 'item2']\n",
    ")\n",
    "\n",
    "display(Markdown('#### Item Pairs (Preview)'))\n",
    "display(df.head(2))"
   ]
  },
  {
   "cell_type": "markdown",
   "metadata": {},
   "source": [
    "## Predict Item Correlations"
   ]
  },
  {
   "cell_type": "code",
   "execution_count": 52,
   "metadata": {},
   "outputs": [
    {
     "data": {
      "application/vnd.jupyter.widget-view+json": {
       "model_id": "967a8b93fcd64de09dccb334361c9ed1",
       "version_major": 2,
       "version_minor": 0
      },
      "text/plain": [
       "Batches:   0%|          | 0/29 [00:00<?, ?it/s]"
      ]
     },
     "metadata": {},
     "output_type": "display_data"
    },
    {
     "data": {
      "application/vnd.jupyter.widget-view+json": {
       "model_id": "bb249e5f93264e79bb9294a1c065b9c3",
       "version_major": 2,
       "version_minor": 0
      },
      "text/plain": [
       "Batches:   0%|          | 0/29 [00:00<?, ?it/s]"
      ]
     },
     "metadata": {},
     "output_type": "display_data"
    },
    {
     "data": {
      "text/markdown": [
       "#### Predicted Item Correlations (Preview)"
      ],
      "text/plain": [
       "<IPython.core.display.Markdown object>"
      ]
     },
     "metadata": {},
     "output_type": "display_data"
    },
    {
     "data": {
      "text/html": [
       "<div>\n",
       "<style scoped>\n",
       "    .dataframe tbody tr th:only-of-type {\n",
       "        vertical-align: middle;\n",
       "    }\n",
       "\n",
       "    .dataframe tbody tr th {\n",
       "        vertical-align: top;\n",
       "    }\n",
       "\n",
       "    .dataframe thead th {\n",
       "        text-align: right;\n",
       "    }\n",
       "</style>\n",
       "<table border=\"1\" class=\"dataframe\">\n",
       "  <thead>\n",
       "    <tr style=\"text-align: right;\">\n",
       "      <th></th>\n",
       "      <th>id1</th>\n",
       "      <th>item1</th>\n",
       "      <th>id2</th>\n",
       "      <th>item2</th>\n",
       "      <th>prediction</th>\n",
       "    </tr>\n",
       "  </thead>\n",
       "  <tbody>\n",
       "    <tr>\n",
       "      <th>0</th>\n",
       "      <td>AAID_01</td>\n",
       "      <td>The use of AI in Defense could be used to spy ...</td>\n",
       "      <td>AAID_05</td>\n",
       "      <td>The use of AI in Defense could be used unethic...</td>\n",
       "      <td>0.812638</td>\n",
       "    </tr>\n",
       "    <tr>\n",
       "      <th>1</th>\n",
       "      <td>AAID_01</td>\n",
       "      <td>The use of AI in Defense could be used to spy ...</td>\n",
       "      <td>AAID_07</td>\n",
       "      <td>The use of AI in Defense could be used to main...</td>\n",
       "      <td>0.659631</td>\n",
       "    </tr>\n",
       "    <tr>\n",
       "      <th>2</th>\n",
       "      <td>AAID_01</td>\n",
       "      <td>The use of AI in Defense could be used to spy ...</td>\n",
       "      <td>AAID_09</td>\n",
       "      <td>The use of AI in Defense could lead to unfores...</td>\n",
       "      <td>0.705703</td>\n",
       "    </tr>\n",
       "    <tr>\n",
       "      <th>3</th>\n",
       "      <td>AAID_01</td>\n",
       "      <td>The use of AI in Defense could be used to spy ...</td>\n",
       "      <td>AAID_12</td>\n",
       "      <td>The use of AI in Defense could save lives</td>\n",
       "      <td>0.604247</td>\n",
       "    </tr>\n",
       "    <tr>\n",
       "      <th>4</th>\n",
       "      <td>AAID_01</td>\n",
       "      <td>The use of AI in Defense could be used to spy ...</td>\n",
       "      <td>AAID_14</td>\n",
       "      <td>The use of AI in Defense could protect critica...</td>\n",
       "      <td>0.662020</td>\n",
       "    </tr>\n",
       "    <tr>\n",
       "      <th>5</th>\n",
       "      <td>AAID_01</td>\n",
       "      <td>The use of AI in Defense could be used to spy ...</td>\n",
       "      <td>PANAS_09</td>\n",
       "      <td>During the last two weeks, I have felt enthusi...</td>\n",
       "      <td>-0.030292</td>\n",
       "    </tr>\n",
       "    <tr>\n",
       "      <th>6</th>\n",
       "      <td>AAID_01</td>\n",
       "      <td>The use of AI in Defense could be used to spy ...</td>\n",
       "      <td>PANAS_14</td>\n",
       "      <td>During the last two weeks, I have felt inspired</td>\n",
       "      <td>0.040297</td>\n",
       "    </tr>\n",
       "    <tr>\n",
       "      <th>7</th>\n",
       "      <td>AAID_01</td>\n",
       "      <td>The use of AI in Defense could be used to spy ...</td>\n",
       "      <td>PANAS_10</td>\n",
       "      <td>During the last two weeks, I have felt proud</td>\n",
       "      <td>-0.011570</td>\n",
       "    </tr>\n",
       "    <tr>\n",
       "      <th>8</th>\n",
       "      <td>AAID_01</td>\n",
       "      <td>The use of AI in Defense could be used to spy ...</td>\n",
       "      <td>PANAS_05</td>\n",
       "      <td>During the last two weeks, I have felt strong</td>\n",
       "      <td>-0.030755</td>\n",
       "    </tr>\n",
       "    <tr>\n",
       "      <th>9</th>\n",
       "      <td>AAID_01</td>\n",
       "      <td>The use of AI in Defense could be used to spy ...</td>\n",
       "      <td>PANAS_08</td>\n",
       "      <td>During the last two weeks, I have felt hostile</td>\n",
       "      <td>0.125096</td>\n",
       "    </tr>\n",
       "  </tbody>\n",
       "</table>\n",
       "</div>"
      ],
      "text/plain": [
       "       id1                                              item1       id2  \\\n",
       "0  AAID_01  The use of AI in Defense could be used to spy ...   AAID_05   \n",
       "1  AAID_01  The use of AI in Defense could be used to spy ...   AAID_07   \n",
       "2  AAID_01  The use of AI in Defense could be used to spy ...   AAID_09   \n",
       "3  AAID_01  The use of AI in Defense could be used to spy ...   AAID_12   \n",
       "4  AAID_01  The use of AI in Defense could be used to spy ...   AAID_14   \n",
       "5  AAID_01  The use of AI in Defense could be used to spy ...  PANAS_09   \n",
       "6  AAID_01  The use of AI in Defense could be used to spy ...  PANAS_14   \n",
       "7  AAID_01  The use of AI in Defense could be used to spy ...  PANAS_10   \n",
       "8  AAID_01  The use of AI in Defense could be used to spy ...  PANAS_05   \n",
       "9  AAID_01  The use of AI in Defense could be used to spy ...  PANAS_08   \n",
       "\n",
       "                                               item2  prediction  \n",
       "0  The use of AI in Defense could be used unethic...    0.812638  \n",
       "1  The use of AI in Defense could be used to main...    0.659631  \n",
       "2  The use of AI in Defense could lead to unfores...    0.705703  \n",
       "3          The use of AI in Defense could save lives    0.604247  \n",
       "4  The use of AI in Defense could protect critica...    0.662020  \n",
       "5  During the last two weeks, I have felt enthusi...   -0.030292  \n",
       "6    During the last two weeks, I have felt inspired    0.040297  \n",
       "7       During the last two weeks, I have felt proud   -0.011570  \n",
       "8      During the last two weeks, I have felt strong   -0.030755  \n",
       "9     During the last two weeks, I have felt hostile    0.125096  "
      ]
     },
     "metadata": {},
     "output_type": "display_data"
    }
   ],
   "source": [
    "embeddings1 = model.encode(\n",
    "    sentences=df['item1'],\n",
    "    convert_to_numpy=True,\n",
    "    batch_size=config['batch_size'],\n",
    "    show_progress_bar=True\n",
    ")\n",
    "\n",
    "embeddings2 = model.encode(\n",
    "    sentences=df['item2'],\n",
    "    convert_to_numpy=True,\n",
    "    batch_size=config['batch_size'],\n",
    "    show_progress_bar=True\n",
    ")\n",
    "\n",
    "cosine_similarities = util.cos_sim(embeddings1, embeddings2)\n",
    "df['prediction'] = cosine_similarities.diagonal()\n",
    "\n",
    "display(Markdown('#### Predicted Item Correlations (Preview)'))\n",
    "display(df.head(10))"
   ]
  },
  {
   "cell_type": "markdown",
   "metadata": {},
   "source": [
    "## Save predictions"
   ]
  },
  {
   "cell_type": "code",
   "execution_count": 53,
   "metadata": {},
   "outputs": [],
   "source": [
    "df.to_csv('predictions.csv')"
   ]
  }
 ],
 "metadata": {
  "kernelspec": {
   "display_name": "env",
   "language": "python",
   "name": "python3"
  },
  "language_info": {
   "codemirror_mode": {
    "name": "ipython",
    "version": 3
   },
   "file_extension": ".py",
   "mimetype": "text/x-python",
   "name": "python",
   "nbconvert_exporter": "python",
   "pygments_lexer": "ipython3",
   "version": "3.10.12"
  }
 },
 "nbformat": 4,
 "nbformat_minor": 2
}
